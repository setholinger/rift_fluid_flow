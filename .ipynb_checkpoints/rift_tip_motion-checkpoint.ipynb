{
 "cells": [
  {
   "cell_type": "code",
   "execution_count": 1,
   "id": "a5d18f7d-5747-4d98-87ed-143561ebadfb",
   "metadata": {},
   "outputs": [],
   "source": [
    "import numpy as np\n",
    "from scipy.integrate import odeint\n",
    "import matplotlib.pyplot as plt\n",
    "import warnings\n",
    "warnings.filterwarnings(\"ignore\", module = \"matplotlib\")"
   ]
  },
  {
   "cell_type": "code",
   "execution_count": null,
   "id": "1a7fe9c2-145c-419a-98de-6b4174095cc9",
   "metadata": {
    "jupyter": {
     "source_hidden": true
    },
    "tags": []
   },
   "outputs": [],
   "source": [
    "'''\n",
    "\n",
    "Numerical solution to equation 18 in Lipovsky 2018 assuming K = sigima*sqrt(pi*L)\n",
    "\n",
    "'''\n",
    "\n",
    "# define the ODE\n",
    "def simple_tip_motion(L,t,c_r,K_c,sigma):\n",
    "    K = sigma*np.sqrt(np.pi*L)\n",
    "    dLdt = c_r*(1-(K_c/K)**2)\n",
    "    return dLdt\n",
    "\n",
    "# define material properties ice \n",
    "K_c = 250000\n",
    "c_r = 1500\n",
    "\n",
    "# define loading configuration\n",
    "sigma = 3500\n",
    "\n",
    "# set initial length\n",
    "L0 = 2000\n",
    "\n",
    "# define a vector of times\n",
    "t_max = 100\n",
    "nt = 1001\n",
    "t = np.linspace(0, t_max, nt)\n",
    "\n",
    "# calculate initial stress intensity factor\n",
    "K = sigma*np.sqrt(np.pi*L0)\n",
    "\n",
    "# solve the ODE\n",
    "print(\"K_c: \" + str(np.round(K_c/1000)) + \" kPa\")\n",
    "print(\"K: \" + str(np.round(K/1000)) + \" kPa\")\n",
    "if K >= K_c:\n",
    "    L = odeint(simple_tip_motion, L0, t, args=(c_r, K_c, sigma)).reshape(nt)\n",
    "else:\n",
    "    L = np.zeros(nt)\n",
    "    \n",
    "# estimate minimum and maximum crack tip speeds\n",
    "crack_speeds = np.diff(L)/np.diff(t)\n",
    "min_crack_speed = np.min(crack_speeds)\n",
    "max_crack_speed = np.max(crack_speeds)\n",
    "\n",
    "# plot crack length as a function of time\n",
    "fig,ax = plt.subplots(1,1,figsize=(10,7))\n",
    "ax.set_title(\"Crack length through time\")\n",
    "ax.plot(t,L/1000,color='k')\n",
    "ax.plot(t,(t*min_crack_speed+L[0])/1000,color='g',linestyle=\"--\")\n",
    "offset = (t*c_r)[-1] - L[-1]\n",
    "ax.plot(t,(t*c_r-offset)/1000,color='r',linestyle=\"--\")\n",
    "ax.set_ylim((0,np.max(L)/1000))\n",
    "ax.set_ylabel(\"Length (km)\")\n",
    "ax.set_xlabel(\"Time (seconds)\")\n",
    "plt.show()\n",
    "print(\"Minimum crack tip speed: \" + str(np.round(min_crack_speed)) + \" m/s\")\n",
    "print(\"Maximum crack tip speed: \" + str(np.round(max_crack_speed)) + \" m/s\")"
   ]
  },
  {
   "cell_type": "code",
   "execution_count": null,
   "id": "12a2b515-40a1-41b0-bec0-7b0584250e09",
   "metadata": {
    "jupyter": {
     "source_hidden": true
    },
    "tags": []
   },
   "outputs": [],
   "source": [
    "'''\n",
    "\n",
    "Solve crack tip motion subject to spatially and temporally variable loading with manual time stepping\n",
    "\n",
    "'''\n",
    "\n",
    "def solve_tip_motion_iteratively(L0,t,loading):\n",
    "\n",
    "    # define the ODE\n",
    "    def tip_motion(L,t,c_r,K_c,sigma):\n",
    "        K = sigma*np.sqrt(np.pi*L)\n",
    "        dLdt = c_r*(1-(K_c/K)**2)\n",
    "        return dLdt\n",
    "\n",
    "    # iterate through time vector\n",
    "    L = np.array([])\n",
    "    K_t = np.array([])\n",
    "    for time in t:\n",
    "\n",
    "        # find loading at current crack tip position\n",
    "        sigma = loading(L0,time)\n",
    "        K = sigma*np.sqrt(np.pi*L0)\n",
    "        K_t = np.append(K_t,K)\n",
    "\n",
    "        # solve the ODE\n",
    "        if K >= K_c:\n",
    "            tip_position = odeint(tip_motion, L0, t, args=(c_r, K_c, sigma)).reshape(nt)\n",
    "        else:\n",
    "            tip_position = np.ones(nt)*L0\n",
    "\n",
    "        # save new crack tip position and update crack length\n",
    "        L = np.append(L,tip_position[1])\n",
    "        L0 = tip_position[1]\n",
    "\n",
    "    # get loading as a function of position\n",
    "    x = np.linspace(L[0],L[-1],1001)\n",
    "    sigma_x = np.array(list(map(loading, x, np.ones(len(x)))))\n",
    "    sigma_t = np.array(list(map(loading, np.ones(len(t)), t)))\n",
    "    K_x = sigma_x*np.sqrt(np.pi*x)\n",
    "    \n",
    "    return L, sigma_x, sigma_t, K_x, K_t"
   ]
  },
  {
   "cell_type": "code",
   "execution_count": null,
   "id": "4fc5c41f-c7ed-4e82-81ef-1d60a5a34426",
   "metadata": {
    "jupyter": {
     "source_hidden": true
    },
    "tags": []
   },
   "outputs": [],
   "source": [
    "'''\n",
    "\n",
    "Solve crack tip motion subject to spatially and temporally variable allowing odeint to handle the time stepping\n",
    "\n",
    "'''\n",
    "\n",
    "def tip_motion(L,t,c_r,K_c,loading):\n",
    "    sigma = loading(L,t)\n",
    "    K = sigma*np.sqrt(np.pi*L)\n",
    "    if  K >= K_c:\n",
    "        dLdt = c_r*(1-(K_c/K)**2)\n",
    "    else:\n",
    "        dLdt = 0\n",
    "    return dLdt\n",
    "\n",
    "def get_sigma_and_K(L,t,loading):\n",
    "    x = np.linspace(L[0],L[-1],len(t))\n",
    "    sigma_x = np.array(list(map(loading, x, np.ones(len(x)))))\n",
    "    sigma_t = np.array(list(map(loading, np.ones(len(t)), t)))\n",
    "    sigma_L = np.array(list(map(loading, L, t)))\n",
    "    K_x = np.array(list(map(lambda sigma,L: sigma*np.sqrt(np.pi*L), sigma_x, x)))\n",
    "    K_t = np.array(list(map(lambda sigma,L: sigma*np.sqrt(np.pi*L), sigma_L, L)))\n",
    "    return sigma_x, sigma_t, K_x, K_t\n",
    "\n",
    "def solve_tip_motion(t,L0,c_r,K_c,loading):\n",
    "    L = odeint(tip_motion, L0, t, args=(c_r, K_c, loading)).reshape(len(t))\n",
    "    sigma_x, sigma_t, K_x, K_t = get_sigma_and_K(L,t,loading)\n",
    "    return L, sigma_x, sigma_t, K_x, K_t"
   ]
  },
  {
   "cell_type": "code",
   "execution_count": null,
   "id": "9167df90-55dc-4087-a825-a5932aa2bb7d",
   "metadata": {
    "jupyter": {
     "source_hidden": true
    },
    "tags": []
   },
   "outputs": [],
   "source": [
    "'''\n",
    "\n",
    "Function for plotting the model results\n",
    "\n",
    "'''\n",
    "\n",
    "def plot_tip_motion(L,t,sigma_x,sigma_t,K_x,K_t):\n",
    "\n",
    "    # estimate minimum and maximum crack tip speeds\n",
    "    crack_speeds = np.diff(L)/np.diff(t)\n",
    "    min_crack_speed = np.min(crack_speeds)\n",
    "    max_crack_speed = np.max(crack_speeds)    \n",
    "    max_crack_speed_ind = np.argmax(crack_speeds)\n",
    "    \n",
    "    # plot stress profile in space\n",
    "    fig,ax = plt.subplots(5,1,figsize=(15,20))\n",
    "    x = np.linspace(L[0],L[-1],1001)\n",
    "    ax[0].set_title(\"Stress $\\sigma(x)$\",fontsize=20)\n",
    "    ax[0].plot(x/1000,sigma_x/1000,color='k')\n",
    "    if np.sum(np.diff(sigma_t)) != 0:\n",
    "        ax[0].set_ylim((np.min(sigma_x)/1000,np.max(sigma_x)/1000))\n",
    "    ax[0].set_xlim(x[0]/1000,x[-1]/1000)\n",
    "    ax[0].tick_params(axis='both', which='major', labelsize=13)\n",
    "    ax[0].set_ylabel(\"Stress (kPa)\",fontsize=13)\n",
    "    ax[0].set_xlabel(\"Length (km)\",fontsize=13)\n",
    "    \n",
    "    # plot stress profile in time\n",
    "    ax[1].set_title(\"Stress $\\sigma(t)$\",fontsize=20)\n",
    "    ax[1].plot(t,sigma_t/1000,color='k')\n",
    "    if np.sum(np.diff(sigma_t)) != 0:\n",
    "        ax[1].set_ylim((np.min(sigma_t)/1000,np.max(sigma_t)/1000))\n",
    "    ax[1].set_xlim(t[0],t[-1])\n",
    "    ax[1].tick_params(axis='both', which='major', labelsize=13)\n",
    "    ax[1].set_ylabel(\"Stress (kPa)\",fontsize=13)\n",
    "    ax[1].set_xlabel(\"Time (seconds)\",fontsize=13)\n",
    "\n",
    "    # plot stress intensity factor as a function of space\n",
    "    ax[2].set_title(\"Stress intensity factor $K(x)$\",fontsize=20)\n",
    "    ax[2].plot(x/1000,K_x/1000,color='k')\n",
    "    ax[2].hlines(K_c/1000,xmin=x[0]/1000,xmax=x[-1]/1000,color='r',linestyle='--',label=\"Critical stress intensity factor $K_c$\")\n",
    "    ax[2].legend(fontsize=15)\n",
    "    ax[2].set_ylim((K_c/1000-10,np.max(K_x)/1000+2))\n",
    "    ax[2].set_xlim(x[0]/1000,x[-1]/1000)\n",
    "    ax[2].tick_params(axis='both', which='major', labelsize=13)\n",
    "    ax[2].set_ylabel(\"Stress intensity factor $(kPa\\sqrt{m})$\",fontsize=13)\n",
    "    ax[2].set_xlabel(\"Length (km)\",fontsize=13)\n",
    "\n",
    "    # plot stress intensity factors through time\n",
    "    ax[3].set_title(\"Stress intensity factor $K(t)$\",fontsize=20)\n",
    "    ax[3].plot(t,K_t/1000,color='k')\n",
    "    ax[3].hlines(K_c/1000,0,t[-1],color='r',linestyle='--',label=\"Critical stress intensity factor $K_c$\")\n",
    "    ax[3].legend(fontsize=15)\n",
    "    if K_c < np.min(K_t):\n",
    "        ax[3].set_ylim((K_c/1000-10,np.max(K_t)/1000+2))\n",
    "    else:\n",
    "        ax[3].set_ylim((np.min(K_t)/1000-10,np.max(K_t)/1000+2))\n",
    "    ax[3].set_xlim(0,t[-1])\n",
    "    ax[3].tick_params(axis='both', which='major', labelsize=13)\n",
    "    ax[3].set_ylabel(\"Stress intensity factor $(kPa\\sqrt{m})$\",fontsize=13)\n",
    "    ax[3].set_xlabel(\"Time (s)\",fontsize=13)\n",
    "    \n",
    "    # plot crack tip position through time\n",
    "    ax[4].set_title(\"Crack length L(t)\",fontsize=20)\n",
    "    ax[4].plot(t,L/1000,color='k')\n",
    "    offset = (t*c_r)[max_crack_speed_ind] - L[max_crack_speed_ind]\n",
    "    ax[4].plot(t,(t*c_r-offset)/1000,color='b',linestyle=\"--\",label=\"Rayleigh wave speed $c_r$\")\n",
    "    ax[4].legend(fontsize=15)\n",
    "    ax[4].set_ylim((0,np.max(L)/1000+2))\n",
    "    ax[4].set_xlim(0,t[-1])\n",
    "    ax[4].tick_params(axis='both', which='major', labelsize=13)\n",
    "    ax[4].set_ylabel(\"Length (km)\",fontsize=13)\n",
    "    ax[4].set_xlabel(\"Time (seconds)\",fontsize=13)\n",
    "    plt.tight_layout()\n",
    "    plt.show()\n",
    "    print(\"Minimum crack tip speed: \" + str(np.round(min_crack_speed)) + \" m/s\")\n",
    "    print(\"Maximum crack tip speed: \" + str(np.round(max_crack_speed)) + \" m/s\")"
   ]
  },
  {
   "cell_type": "code",
   "execution_count": null,
   "id": "08e5764d-845e-4afb-ba13-7c9d508aa568",
   "metadata": {
    "jupyter": {
     "source_hidden": true
    },
    "tags": []
   },
   "outputs": [],
   "source": [
    "'''\n",
    "\n",
    "Solve and plot crack tip motion for a variety of loading configurations\n",
    "\n",
    "'''\n",
    "\n",
    "# set ice material properties \n",
    "K_c = 250000\n",
    "c_r = 1500\n",
    "\n",
    "# set initial length\n",
    "L0 = 2000\n",
    "\n",
    "# define a vector of times\n",
    "t_max = 100\n",
    "nt = 1001\n",
    "t = np.linspace(0, t_max, nt)"
   ]
  },
  {
   "cell_type": "code",
   "execution_count": null,
   "id": "f2b737d4-3497-4e0a-898e-fa50a0e60d58",
   "metadata": {
    "jupyter": {
     "source_hidden": true
    },
    "tags": []
   },
   "outputs": [],
   "source": [
    "# define loading configuration\n",
    "def loading(x,t):\n",
    "    sigma = 3500\n",
    "    return sigma\n",
    "\n",
    "# solve and plot the crack tip motion\n",
    "L,sigma_x,sigma_t,K_x,K_t = solve_tip_motion(t,L0,c_r,K_c,loading)\n",
    "plot_tip_motion(L,t,sigma_x,sigma_t,K_x,K_t)"
   ]
  },
  {
   "cell_type": "code",
   "execution_count": null,
   "id": "abc6b0d0-09f1-41a5-9e81-2f0d74220f18",
   "metadata": {
    "jupyter": {
     "source_hidden": true
    },
    "tags": []
   },
   "outputs": [],
   "source": [
    "# define loading configuration\n",
    "def loading(x,t):\n",
    "    sigma = 5000 - 0.25 * x\n",
    "    return sigma\n",
    "\n",
    "# solve and plot the crack tip motion\n",
    "L,sigma_x,sigma_t,K_x,K_t = solve_tip_motion(t,L0,c_r,K_c,loading)\n",
    "plot_tip_motion(L,t,sigma_x,sigma_t,K_x,K_t)"
   ]
  },
  {
   "cell_type": "code",
   "execution_count": null,
   "id": "42a24f3c-3d2b-4b96-a9a6-720c06928a10",
   "metadata": {
    "jupyter": {
     "source_hidden": true
    },
    "tags": []
   },
   "outputs": [],
   "source": [
    "# define loading configuration\n",
    "def loading(x,t):\n",
    "    sigma = 4500 + 2500 * np.sin(x/1000)\n",
    "    return sigma\n",
    "\n",
    "# solve and plot the crack tip motion\n",
    "L,sigma_x,sigma_t,K_x,K_t = solve_tip_motion(t,L0,c_r,K_c,loading)\n",
    "plot_tip_motion(L,t,sigma_x,sigma_t,K_x,K_t)"
   ]
  },
  {
   "cell_type": "code",
   "execution_count": null,
   "id": "0837dcfb-9a24-402f-8bdf-03c3b1bf8fc0",
   "metadata": {
    "jupyter": {
     "source_hidden": true
    },
    "tags": []
   },
   "outputs": [],
   "source": [
    "# define loading configuration\n",
    "def loading(x,t):\n",
    "    sigma = 5500 + 2500 * np.sin(x/1000)\n",
    "    return sigma\n",
    "\n",
    "# solve and plot the crack tip motion\n",
    "L,sigma_x,sigma_t,K_x,K_t = solve_tip_motion(t,L0,c_r,K_c,loading)\n",
    "plot_tip_motion(L,t,sigma_x,sigma_t,K_x,K_t)"
   ]
  },
  {
   "cell_type": "code",
   "execution_count": null,
   "id": "da381271-fcc7-441d-b6af-621ea3101bde",
   "metadata": {
    "jupyter": {
     "source_hidden": true
    },
    "tags": []
   },
   "outputs": [],
   "source": [
    "# define loading configuration\n",
    "def loading(x,t):\n",
    "    sigma = 2000 + 2500 * np.sin(t/10)\n",
    "    return sigma\n",
    "\n",
    "# solve and plot the crack tip motion\n",
    "L,sigma_x,sigma_t,K_x,K_t = solve_tip_motion(t,L0,c_r,K_c,loading)\n",
    "plot_tip_motion(L,t,sigma_x,sigma_t,K_x,K_t)"
   ]
  },
  {
   "cell_type": "code",
   "execution_count": null,
   "id": "ea111aab-f6b9-4fce-bb27-10e73bb92b42",
   "metadata": {
    "jupyter": {
     "source_hidden": true
    },
    "tags": []
   },
   "outputs": [],
   "source": [
    "# define loading configuration\n",
    "def loading(x,t):\n",
    "    sigma = 3250 - np.exp(x/450)\n",
    "    return sigma\n",
    "\n",
    "# solve and plot the crack tip motion\n",
    "L,sigma_x,sigma_t,K_x,K_t = solve_tip_motion(t,L0,c_r,K_c,loading)\n",
    "plot_tip_motion(L,t,sigma_x,sigma_t,K_x,K_t)"
   ]
  },
  {
   "cell_type": "code",
   "execution_count": 48,
   "id": "d67bba4f-0882-41e5-aeb8-8c0882634b36",
   "metadata": {},
   "outputs": [],
   "source": [
    "def water_motion(U,t,H_w,H_c,L_c,w,L,rho_w,model):\n",
    "    eta, xi = U\n",
    "    if model == 'linear-constant-l-and-w':\n",
    "        d_eta_dt = xi\n",
    "        d_xi_dt = 9.8*(H_w-H_c-eta)/(w*L_c/H_c)\n",
    "    elif model == 'nonlinear-constant-l-and-w':\n",
    "        d_eta_dt = xi\n",
    "        d_xi_dt = (9.8*(H_w-H_c-eta)-(1/2)*(1-(w/H_c)**2)*xi**2)/(w*L_c/H_c+eta)\n",
    "    \n",
    "    dUdt = [d_eta_dt,\n",
    "            d_xi_dt]\n",
    "    \n",
    "    return dUdt"
   ]
  },
  {
   "cell_type": "code",
   "execution_count": 49,
   "id": "820567c6-8f71-4b83-ae2f-d9ec3e02645f",
   "metadata": {},
   "outputs": [],
   "source": [
    "'''\n",
    "\n",
    "Solve water motion with odeint\n",
    "\n",
    "'''\n",
    "\n",
    "# set material properties\n",
    "rho_i = 910\n",
    "rho_w = 1000\n",
    "\n",
    "# set shelf geometry\n",
    "H_i = 100\n",
    "H_w = 500\n",
    "H_c = H_w - rho_i/rho_w*H_i\n",
    "L_c = 10000\n",
    "\n",
    "# set rift geometry\n",
    "w = 100\n",
    "L = 1000\n",
    "\n",
    "# set initial conditions\n",
    "U0 = [0,0]\n",
    "\n",
    "# define a vector of times\n",
    "t_max = 1000\n",
    "nt = 1001\n",
    "t = np.linspace(0, t_max, nt)\n",
    "\n",
    "# solve the linear ODE with odeint\n",
    "U = odeint(water_motion, U0, t, args=(H_w, H_c, L_c, w, L, rho_w,'linear-constant-l-and-w'))\n",
    "eta_linear = U[:,0]\n",
    "\n",
    "# solve the nonlinear ODE with odeint\n",
    "U = odeint(water_motion, U0, t, args=(H_w, H_c, L_c, w, L, rho_w,'nonlinear-constant-l-and-w'))\n",
    "eta_nonlinear = U[:,0]"
   ]
  },
  {
   "cell_type": "code",
   "execution_count": 50,
   "id": "fb7f27dc-e4b7-4190-8e8c-150ff158eb6c",
   "metadata": {},
   "outputs": [
    {
     "data": {
      "image/png": "[encoded data removed]",
      "text/plain": [
       "<Figure size 432x288 with 1 Axes>"
      ]
     },
     "metadata": {
      "needs_background": "light"
     },
     "output_type": "display_data"
    }
   ],
   "source": [
    "plt.figure()\n",
    "plt.plot(eta_nonlinear,label=\"nonlinear\")\n",
    "plt.plot(eta_linear,label=\"linear\")\n",
    "plt.legend()\n",
    "plt.show()"
   ]
  },
  {
   "cell_type": "code",
   "execution_count": null,
   "id": "c59dde08-c32b-4f64-80d3-52a1a346ce7d",
   "metadata": {},
   "outputs": [],
   "source": []
  }
 ],
 "metadata": {
  "kernelspec": {
   "display_name": "Python 3 (ipykernel)",
   "language": "python",
   "name": "python3"
  },
  "language_info": {
   "codemirror_mode": {
    "name": "ipython",
    "version": 3
   },
   "file_extension": ".py",
   "mimetype": "text/x-python",
   "name": "python",
   "nbconvert_exporter": "python",
   "pygments_lexer": "ipython3",
   "version": "3.9.7"
  }
 },
 "nbformat": 4,
 "nbformat_minor": 5
}
